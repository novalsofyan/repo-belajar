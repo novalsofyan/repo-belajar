{
 "cells": [
  {
   "cell_type": "code",
   "execution_count": 1,
   "id": "72a5aa3c-46ad-4f11-b79e-9478d9964f0c",
   "metadata": {},
   "outputs": [],
   "source": [
    "import warnings\n",
    "warnings.filterwarnings('ignore')"
   ]
  },
  {
   "cell_type": "code",
   "execution_count": 2,
   "id": "6311ca16-b9eb-48cb-969b-5231151fc1ca",
   "metadata": {},
   "outputs": [],
   "source": [
    "import pandas as pd\n",
    "import numpy as np"
   ]
  },
  {
   "cell_type": "markdown",
   "id": "6fbb90bf-3955-42f8-9f53-2154c32e0431",
   "metadata": {},
   "source": [
    "# DATA EXPLORATION"
   ]
  },
  {
   "cell_type": "code",
   "execution_count": 3,
   "id": "d02f34a6-3ab2-4553-a76a-ba6239fb3a33",
   "metadata": {},
   "outputs": [
    {
     "data": {
      "text/html": [
       "<div>\n",
       "<style scoped>\n",
       "    .dataframe tbody tr th:only-of-type {\n",
       "        vertical-align: middle;\n",
       "    }\n",
       "\n",
       "    .dataframe tbody tr th {\n",
       "        vertical-align: top;\n",
       "    }\n",
       "\n",
       "    .dataframe thead th {\n",
       "        text-align: right;\n",
       "    }\n",
       "</style>\n",
       "<table border=\"1\" class=\"dataframe\">\n",
       "  <thead>\n",
       "    <tr style=\"text-align: right;\">\n",
       "      <th></th>\n",
       "      <th>A_id</th>\n",
       "      <th>Size</th>\n",
       "      <th>Weight</th>\n",
       "      <th>Sweetness</th>\n",
       "      <th>Crunchiness</th>\n",
       "      <th>Juiciness</th>\n",
       "      <th>Ripeness</th>\n",
       "      <th>Acidity</th>\n",
       "      <th>Quality</th>\n",
       "    </tr>\n",
       "  </thead>\n",
       "  <tbody>\n",
       "    <tr>\n",
       "      <th>0</th>\n",
       "      <td>0.0</td>\n",
       "      <td>-3.970049</td>\n",
       "      <td>-2.512336</td>\n",
       "      <td>5.346330</td>\n",
       "      <td>-1.012009</td>\n",
       "      <td>1.844900</td>\n",
       "      <td>0.32984</td>\n",
       "      <td>-0.491590483</td>\n",
       "      <td>good</td>\n",
       "    </tr>\n",
       "    <tr>\n",
       "      <th>1</th>\n",
       "      <td>1.0</td>\n",
       "      <td>-1.195217</td>\n",
       "      <td>-2.839257</td>\n",
       "      <td>3.664059</td>\n",
       "      <td>1.588232</td>\n",
       "      <td>0.853286</td>\n",
       "      <td>0.86753</td>\n",
       "      <td>-0.722809367</td>\n",
       "      <td>good</td>\n",
       "    </tr>\n",
       "  </tbody>\n",
       "</table>\n",
       "</div>"
      ],
      "text/plain": [
       "   A_id      Size    Weight  Sweetness  Crunchiness  Juiciness  Ripeness  \\\n",
       "0   0.0 -3.970049 -2.512336   5.346330    -1.012009   1.844900   0.32984   \n",
       "1   1.0 -1.195217 -2.839257   3.664059     1.588232   0.853286   0.86753   \n",
       "\n",
       "        Acidity Quality  \n",
       "0  -0.491590483    good  \n",
       "1  -0.722809367    good  "
      ]
     },
     "execution_count": 3,
     "metadata": {},
     "output_type": "execute_result"
    }
   ],
   "source": [
    "# Dataset : https://www.kaggle.com/datasets/nelgiriyewithana/apple-quality\n",
    "\n",
    "df = pd.read_csv('apple_quality.csv')\n",
    "df.head(2)"
   ]
  },
  {
   "cell_type": "code",
   "execution_count": 4,
   "id": "652fb515-de58-41bb-9d11-5a22da8e769b",
   "metadata": {},
   "outputs": [
    {
     "data": {
      "text/plain": [
       "A_id            True\n",
       "Size            True\n",
       "Weight          True\n",
       "Sweetness       True\n",
       "Crunchiness     True\n",
       "Juiciness       True\n",
       "Ripeness        True\n",
       "Acidity        False\n",
       "Quality         True\n",
       "dtype: bool"
      ]
     },
     "execution_count": 4,
     "metadata": {},
     "output_type": "execute_result"
    }
   ],
   "source": [
    "# Melihat apakah ada data null\n",
    "\n",
    "df.isna().any()"
   ]
  },
  {
   "cell_type": "code",
   "execution_count": 5,
   "id": "73080d2d-7349-42da-bda9-2526f6f00a25",
   "metadata": {},
   "outputs": [],
   "source": [
    "# Drop data null\n",
    "\n",
    "df = df.dropna()"
   ]
  },
  {
   "cell_type": "code",
   "execution_count": 6,
   "id": "edcab886-9f7c-494e-aa4f-6bc8d0b9644e",
   "metadata": {
    "scrolled": true
   },
   "outputs": [
    {
     "data": {
      "text/plain": [
       "A_id           False\n",
       "Size           False\n",
       "Weight         False\n",
       "Sweetness      False\n",
       "Crunchiness    False\n",
       "Juiciness      False\n",
       "Ripeness       False\n",
       "Acidity        False\n",
       "Quality        False\n",
       "dtype: bool"
      ]
     },
     "execution_count": 6,
     "metadata": {},
     "output_type": "execute_result"
    }
   ],
   "source": [
    "# Melihat apakah masih ada data null\n",
    "\n",
    "df.isna().any()"
   ]
  },
  {
   "cell_type": "code",
   "execution_count": 7,
   "id": "baaceab4-ae08-4706-bb39-f598e99bd717",
   "metadata": {},
   "outputs": [
    {
     "data": {
      "text/plain": [
       "<seaborn.axisgrid.FacetGrid at 0x224eeade5c0>"
      ]
     },
     "execution_count": 7,
     "metadata": {},
     "output_type": "execute_result"
    },
    {
     "data": {
      "image/png": "[encoded data removed]",
      "text/plain": [
       "<Figure size 500x500 with 1 Axes>"
      ]
     },
     "metadata": {},
     "output_type": "display_data"
    }
   ],
   "source": [
    "# Melihat kualitas apel\n",
    "import seaborn as sns\n",
    "\n",
    "sns.displot(data = df, x = 'Quality')"
   ]
  },
  {
   "cell_type": "code",
   "execution_count": 8,
   "id": "6ef491e9-cccd-4ad3-859e-f4a08f26b070",
   "metadata": {},
   "outputs": [
    {
     "data": {
      "text/html": [
       "<div>\n",
       "<style scoped>\n",
       "    .dataframe tbody tr th:only-of-type {\n",
       "        vertical-align: middle;\n",
       "    }\n",
       "\n",
       "    .dataframe tbody tr th {\n",
       "        vertical-align: top;\n",
       "    }\n",
       "\n",
       "    .dataframe thead th {\n",
       "        text-align: right;\n",
       "    }\n",
       "</style>\n",
       "<table border=\"1\" class=\"dataframe\">\n",
       "  <thead>\n",
       "    <tr style=\"text-align: right;\">\n",
       "      <th></th>\n",
       "      <th>Size</th>\n",
       "      <th>Weight</th>\n",
       "      <th>Sweetness</th>\n",
       "      <th>Crunchiness</th>\n",
       "      <th>Juiciness</th>\n",
       "      <th>Ripeness</th>\n",
       "      <th>Acidity</th>\n",
       "      <th>Quality</th>\n",
       "    </tr>\n",
       "  </thead>\n",
       "  <tbody>\n",
       "    <tr>\n",
       "      <th>0</th>\n",
       "      <td>-3.970049</td>\n",
       "      <td>-2.512336</td>\n",
       "      <td>5.346330</td>\n",
       "      <td>-1.012009</td>\n",
       "      <td>1.844900</td>\n",
       "      <td>0.32984</td>\n",
       "      <td>-0.491590483</td>\n",
       "      <td>good</td>\n",
       "    </tr>\n",
       "    <tr>\n",
       "      <th>1</th>\n",
       "      <td>-1.195217</td>\n",
       "      <td>-2.839257</td>\n",
       "      <td>3.664059</td>\n",
       "      <td>1.588232</td>\n",
       "      <td>0.853286</td>\n",
       "      <td>0.86753</td>\n",
       "      <td>-0.722809367</td>\n",
       "      <td>good</td>\n",
       "    </tr>\n",
       "  </tbody>\n",
       "</table>\n",
       "</div>"
      ],
      "text/plain": [
       "       Size    Weight  Sweetness  Crunchiness  Juiciness  Ripeness  \\\n",
       "0 -3.970049 -2.512336   5.346330    -1.012009   1.844900   0.32984   \n",
       "1 -1.195217 -2.839257   3.664059     1.588232   0.853286   0.86753   \n",
       "\n",
       "        Acidity Quality  \n",
       "0  -0.491590483    good  \n",
       "1  -0.722809367    good  "
      ]
     },
     "execution_count": 8,
     "metadata": {},
     "output_type": "execute_result"
    }
   ],
   "source": [
    "# Drop id\n",
    "\n",
    "df.drop('A_id', axis = 1, inplace = True)\n",
    "df.head(2)"
   ]
  },
  {
   "cell_type": "code",
   "execution_count": 9,
   "id": "3d098316-38dc-4b48-9c7f-c80f0265716c",
   "metadata": {},
   "outputs": [
    {
     "data": {
      "text/html": [
       "<div>\n",
       "<style scoped>\n",
       "    .dataframe tbody tr th:only-of-type {\n",
       "        vertical-align: middle;\n",
       "    }\n",
       "\n",
       "    .dataframe tbody tr th {\n",
       "        vertical-align: top;\n",
       "    }\n",
       "\n",
       "    .dataframe thead th {\n",
       "        text-align: right;\n",
       "    }\n",
       "</style>\n",
       "<table border=\"1\" class=\"dataframe\">\n",
       "  <thead>\n",
       "    <tr style=\"text-align: right;\">\n",
       "      <th></th>\n",
       "      <th>Size</th>\n",
       "      <th>Weight</th>\n",
       "      <th>Sweetness</th>\n",
       "      <th>Crunchiness</th>\n",
       "      <th>Juiciness</th>\n",
       "      <th>Ripeness</th>\n",
       "      <th>Acidity</th>\n",
       "      <th>Kualitas_Bagus</th>\n",
       "    </tr>\n",
       "  </thead>\n",
       "  <tbody>\n",
       "    <tr>\n",
       "      <th>0</th>\n",
       "      <td>-3.970049</td>\n",
       "      <td>-2.512336</td>\n",
       "      <td>5.346330</td>\n",
       "      <td>-1.012009</td>\n",
       "      <td>1.844900</td>\n",
       "      <td>0.32984</td>\n",
       "      <td>-0.491590483</td>\n",
       "      <td>1</td>\n",
       "    </tr>\n",
       "    <tr>\n",
       "      <th>1</th>\n",
       "      <td>-1.195217</td>\n",
       "      <td>-2.839257</td>\n",
       "      <td>3.664059</td>\n",
       "      <td>1.588232</td>\n",
       "      <td>0.853286</td>\n",
       "      <td>0.86753</td>\n",
       "      <td>-0.722809367</td>\n",
       "      <td>1</td>\n",
       "    </tr>\n",
       "  </tbody>\n",
       "</table>\n",
       "</div>"
      ],
      "text/plain": [
       "       Size    Weight  Sweetness  Crunchiness  Juiciness  Ripeness  \\\n",
       "0 -3.970049 -2.512336   5.346330    -1.012009   1.844900   0.32984   \n",
       "1 -1.195217 -2.839257   3.664059     1.588232   0.853286   0.86753   \n",
       "\n",
       "        Acidity  Kualitas_Bagus  \n",
       "0  -0.491590483               1  \n",
       "1  -0.722809367               1  "
      ]
     },
     "execution_count": 9,
     "metadata": {},
     "output_type": "execute_result"
    }
   ],
   "source": [
    "df['Kualitas_Bagus'] = df['Quality'].apply(lambda x : 1 if x == 'good' else 0)\n",
    "df.drop('Quality', axis = 1, inplace = True)\n",
    "df.head(2)"
   ]
  },
  {
   "cell_type": "code",
   "execution_count": 10,
   "id": "f0e9785d",
   "metadata": {},
   "outputs": [
    {
     "data": {
      "text/plain": [
       "<seaborn.axisgrid.FacetGrid at 0x224eed635e0>"
      ]
     },
     "execution_count": 10,
     "metadata": {},
     "output_type": "execute_result"
    },
    {
     "data": {
      "image/png": "[encoded data removed]",
      "text/plain": [
       "<Figure size 500x500 with 1 Axes>"
      ]
     },
     "metadata": {},
     "output_type": "display_data"
    }
   ],
   "source": [
    "sns.displot(data = df, x = 'Kualitas_Bagus')"
   ]
  },
  {
   "cell_type": "code",
   "execution_count": 11,
   "id": "7b1d9c73",
   "metadata": {},
   "outputs": [],
   "source": [
    "x = df.drop('Kualitas_Bagus', axis = 1)\n",
    "y = df['Kualitas_Bagus']"
   ]
  },
  {
   "cell_type": "markdown",
   "id": "c41285d8",
   "metadata": {},
   "source": [
    "# MODELING"
   ]
  },
  {
   "cell_type": "code",
   "execution_count": 12,
   "id": "3340ed66",
   "metadata": {},
   "outputs": [],
   "source": [
    "from sklearn.model_selection import train_test_split\n",
    "\n",
    "x_train, x_test, y_train, y_test = train_test_split(x, y, test_size = 0.2, random_state = 7)"
   ]
  },
  {
   "cell_type": "code",
   "execution_count": 13,
   "id": "684b33fa",
   "metadata": {},
   "outputs": [],
   "source": [
    "# Membuat fungsi untuk running beberapa model\n",
    "from sklearn.model_selection import cross_val_score\n",
    "\n",
    "def crossValModel(nama_model, x, y):\n",
    "    nama_model = nama_model\n",
    "    nama_model.fit(x, y)\n",
    "    print(f'Cross validation skor: {cross_val_score(nama_model, x, y)}')"
   ]
  },
  {
   "cell_type": "code",
   "execution_count": 14,
   "id": "06ded70e",
   "metadata": {},
   "outputs": [],
   "source": [
    "# Import model klasifikasi yang akan dipakai\n",
    "\n",
    "from sklearn.ensemble import RandomForestClassifier\n",
    "from sklearn.svm import SVC\n",
    "from sklearn.tree import DecisionTreeClassifier\n",
    "from sklearn.linear_model._stochastic_gradient import SGDClassifier\n",
    "from sklearn.neural_network import MLPClassifier\n",
    "from sklearn.naive_bayes import GaussianNB"
   ]
  },
  {
   "cell_type": "code",
   "execution_count": 15,
   "id": "5b8fb6fb",
   "metadata": {},
   "outputs": [
    {
     "name": "stdout",
     "output_type": "stream",
     "text": [
      "Random Forest Classifier\n",
      "Cross validation skor: [0.884375  0.8546875 0.8640625 0.8984375 0.8859375]\n",
      "\n",
      "SVM\n",
      "Cross validation skor: [0.9       0.86875   0.8609375 0.89375   0.8828125]\n",
      "\n",
      "Decision Tree Classifier\n",
      "Cross validation skor: [0.79375   0.7703125 0.7953125 0.796875  0.790625 ]\n",
      "\n",
      "SGDC Classifier\n",
      "Cross validation skor: [0.7484375 0.6765625 0.671875  0.628125  0.703125 ]\n",
      "\n",
      "MLP Classifier\n",
      "Cross validation skor: [0.9359375 0.946875  0.9125    0.9359375 0.93125  ]\n",
      "\n",
      "Gaussian Naive Beyes\n",
      "Cross validation skor: [0.7453125 0.7578125 0.73125   0.771875  0.7296875]\n"
     ]
    }
   ],
   "source": [
    "# Melihat cross-val-score dari beberapa model\n",
    "\n",
    "print('Random Forest Classifier')\n",
    "crossValModel(RandomForestClassifier(), x_train, y_train)\n",
    "print('\\nSVM')\n",
    "crossValModel(SVC(), x_train, y_train)\n",
    "print('\\nDecision Tree Classifier')\n",
    "crossValModel(DecisionTreeClassifier(), x_train, y_train)\n",
    "print('\\nSGDC Classifier')\n",
    "crossValModel(SGDClassifier(), x_train, y_train)\n",
    "print('\\nMLP Classifier')\n",
    "crossValModel(MLPClassifier(max_iter = 3000), x_train, y_train)\n",
    "print('\\nGaussian Naive Beyes')\n",
    "crossValModel(GaussianNB(), x_train, y_train)"
   ]
  },
  {
   "cell_type": "code",
   "execution_count": 16,
   "id": "db7292a7",
   "metadata": {},
   "outputs": [],
   "source": [
    "model = MLPClassifier(max_iter = 3000)\n",
    "model.fit(x_train, y_train)\n",
    "\n",
    "y_pred = model.predict(x_test)"
   ]
  },
  {
   "cell_type": "markdown",
   "id": "4dc7d2a2",
   "metadata": {},
   "source": [
    "# Evaluasi"
   ]
  },
  {
   "cell_type": "code",
   "execution_count": 17,
   "id": "adddb913",
   "metadata": {},
   "outputs": [
    {
     "name": "stdout",
     "output_type": "stream",
     "text": [
      "Laporan Klasifikasi Model\n",
      "              precision    recall  f1-score   support\n",
      "\n",
      "           0       0.96      0.95      0.96       397\n",
      "           1       0.96      0.97      0.96       403\n",
      "\n",
      "    accuracy                           0.96       800\n",
      "   macro avg       0.96      0.96      0.96       800\n",
      "weighted avg       0.96      0.96      0.96       800\n",
      "\n"
     ]
    }
   ],
   "source": [
    "from sklearn.metrics import classification_report\n",
    "\n",
    "print(f'Laporan Klasifikasi Model\\n{classification_report(y_true = y_test, y_pred = y_pred)}')"
   ]
  },
  {
   "cell_type": "code",
   "execution_count": 18,
   "id": "43a21e42",
   "metadata": {},
   "outputs": [
    {
     "data": {
      "text/plain": [
       "Text(70.72222222222221, 0.5, 'Kenyataannya')"
      ]
     },
     "execution_count": 18,
     "metadata": {},
     "output_type": "execute_result"
    },
    {
     "data": {
      "image/png": "[encoded data removed]",
      "text/plain": [
       "<Figure size 800x800 with 2 Axes>"
      ]
     },
     "metadata": {},
     "output_type": "display_data"
    }
   ],
   "source": [
    "# Menggunakan confusion matrix untuk visualisasi prediksi\n",
    "\n",
    "import seaborn as sn\n",
    "import matplotlib.pyplot as plt\n",
    "from sklearn.metrics import confusion_matrix\n",
    "\n",
    "cm_nm = confusion_matrix(y_test, y_pred)\n",
    "\n",
    "\n",
    "plt.figure(figsize = (8, 8))\n",
    "sn.heatmap(cm_nm, annot = True, cmap = 'coolwarm')\n",
    "plt.xlabel('Prediksi')\n",
    "plt.ylabel('Kenyataannya')"
   ]
  },
  {
   "cell_type": "code",
   "execution_count": 19,
   "id": "58e8abfe-eb13-4353-8f6c-3afd82e5e678",
   "metadata": {},
   "outputs": [
    {
     "name": "stdout",
     "output_type": "stream",
     "text": [
      "RMSE : 0.2\n",
      "RMSE Log : 0.13862943611198905\n",
      "MSE : 0.04\n",
      "MAE : 0.04\n"
     ]
    }
   ],
   "source": [
    "# RMSE\n",
    "\n",
    "from sklearn.metrics import root_mean_squared_error\n",
    "from sklearn.metrics import root_mean_squared_log_error\n",
    "from sklearn.metrics import mean_squared_error\n",
    "from sklearn.metrics import mean_absolute_error\n",
    "\n",
    "RMSE = root_mean_squared_error(y_test, y_pred)\n",
    "RMSELog = root_mean_squared_log_error(y_test, y_pred)\n",
    "MSE = mean_squared_error(y_test, y_pred)\n",
    "MAE = mean_absolute_error(y_test, y_pred)\n",
    "\n",
    "print(f'RMSE : {RMSE}\\nRMSE Log : {RMSELog}\\nMSE : {MSE}\\nMAE : {MAE}')"
   ]
  }
 ],
 "metadata": {
  "kernelspec": {
   "display_name": "Python 3 (ipykernel)",
   "language": "python",
   "name": "python3"
  },
  "language_info": {
   "codemirror_mode": {
    "name": "ipython",
    "version": 3
   },
   "file_extension": ".py",
   "mimetype": "text/x-python",
   "name": "python",
   "nbconvert_exporter": "python",
   "pygments_lexer": "ipython3",
   "version": "3.10.13"
  }
 },
 "nbformat": 4,
 "nbformat_minor": 5
}
